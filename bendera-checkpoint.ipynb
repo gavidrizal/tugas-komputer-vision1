{
 "cells": [
  {
   "cell_type": "code",
   "execution_count": 1,
   "id": "72bec220-7f0a-4305-a23b-12e7242b322f",
   "metadata": {},
   "outputs": [],
   "source": [
    "import cv2\n",
    "\n",
    "import numpy as np"
   ]
  },
  {
   "cell_type": "code",
   "execution_count": 2,
   "id": "dbed5da4-d83d-4dd4-8d38-829d4f4aa8e1",
   "metadata": {},
   "outputs": [],
   "source": [
    "# Ukuran bendera\n",
    "height = 200\n",
    "width = 350\n",
    "\n",
    "# Warna\n",
    "dark_green = (0, 60, 0)  # Hijau tua untuk latar belakang\n",
    "red = (0, 0, 160)  # Merah untuk lingkaran\n",
    "\n",
    "# Membuat latar belakang hijau tua\n",
    "flag = np.full((height, width, 3), dark_green, dtype=np.uint8)\n",
    "\n",
    "# Posisi dan radius lingkaran merah\n",
    "center = (width // 2, height // 2)\n",
    "radius = 60  # Sesuaikan radius agar proporsional\n",
    "\n",
    "# Menggambar lingkaran merah\n",
    "cv2.circle(flag, center, radius, red, -1)  # -1 untuk mengisi lingkaran\n",
    "\n",
    "# Menampilkan bendera\n",
    "cv2.imshow(\"Bendera Bangladesh dengan Hijau Tua\", flag)\n",
    "cv2.waitKey(0)\n",
    "cv2.destroyAllWindows()\n"
   ]
  },
  {
   "cell_type": "code",
   "execution_count": 3,
   "id": "6df0d70a-e2a9-49ef-87cc-c8e859162957",
   "metadata": {},
   "outputs": [
    {
     "data": {
      "text/plain": [
       "True"
      ]
     },
     "execution_count": 3,
     "metadata": {},
     "output_type": "execute_result"
    }
   ],
   "source": [
    "cv2.imwrite(\"banglades.jpg\", flag)"
   ]
  },
  {
   "cell_type": "code",
   "execution_count": 4,
   "id": "4d2d9327-ee62-4d4a-8e13-09a030940ce5",
   "metadata": {},
   "outputs": [],
   "source": [
    "#mengubah baground"
   ]
  },
  {
   "cell_type": "code",
   "execution_count": 5,
   "id": "72bcce92-9792-4560-aebc-145474f867a8",
   "metadata": {},
   "outputs": [],
   "source": [
    "\n",
    "# Load gambar\n",
    "image = cv2.imread(\"C:/virtual/app1/wa.jpg\")\n",
    "cv2. imshow(\"watsab\", image)\n",
    "# Ubah gambar ke ruang warna HSV untuk memudahkan deteksi warna putih\n",
    "hsv = cv2.cvtColor(image, cv2.COLOR_BGR2HSV)\n",
    "\n",
    "# Range untuk warna putih (background asli)\n",
    "lower_white = np.array([0, 0, 200])\n",
    "upper_white = np.array([180, 20, 255])\n",
    "mask = cv2.inRange(hsv, lower_white, upper_white)\n",
    "\n",
    "# Buat background biru\n",
    "blue_background = np.full_like(image, (255, 0, 0))  # Warna biru dalam format BGR\n",
    "\n",
    "# Gabungkan gambar asli dengan background biru menggunakan mask\n",
    "result = cv2.bitwise_and(blue_background, blue_background, mask=mask)\n",
    "result = cv2.bitwise_or(result, cv2.bitwise_and(image, image, mask=cv2.bitwise_not(mask)))\n",
    "\n",
    "# Tampilkan hasil\n",
    "cv2.imshow(\"Gambar dengan Background Biru\", result)\n",
    "cv2.waitKey(0)\n",
    "cv2.destroyAllWindows()"
   ]
  },
  {
   "cell_type": "code",
   "execution_count": 6,
   "id": "f8539de1-cd12-4642-a3f2-97b62c06a476",
   "metadata": {},
   "outputs": [
    {
     "data": {
      "text/plain": [
       "True"
      ]
     },
     "execution_count": 6,
     "metadata": {},
     "output_type": "execute_result"
    }
   ],
   "source": [
    "cv2.imwrite(\"wa1.jpg\", result)\n",
    "cv2.imwrite(\"wa2.jpg\", image)"
   ]
  },
  {
   "cell_type": "code",
   "execution_count": null,
   "id": "9ede631d-e239-47f5-8f50-940bec461d29",
   "metadata": {},
   "outputs": [],
   "source": []
  }
 ],
 "metadata": {
  "kernelspec": {
   "display_name": "Python 3 (ipykernel)",
   "language": "python",
   "name": "python3"
  },
  "language_info": {
   "codemirror_mode": {
    "name": "ipython",
    "version": 3
   },
   "file_extension": ".py",
   "mimetype": "text/x-python",
   "name": "python",
   "nbconvert_exporter": "python",
   "pygments_lexer": "ipython3",
   "version": "3.10.11"
  }
 },
 "nbformat": 4,
 "nbformat_minor": 5
}
